{
  "metadata": {
    "kernelspec": {
      "name": "python",
      "display_name": "Python (Pyodide)",
      "language": "python"
    },
    "language_info": {
      "codemirror_mode": {
        "name": "python",
        "version": 3
      },
      "file_extension": ".py",
      "mimetype": "text/x-python",
      "name": "python",
      "nbconvert_exporter": "python",
      "pygments_lexer": "ipython3",
      "version": "3.8"
    }
  },
  "nbformat_minor": 5,
  "nbformat": 4,
  "cells": [
    {
      "id": "dfc3b94f-48ef-49ca-96df-e18f37d227fa",
      "cell_type": "code",
      "source": "# Q1. How do you comment code in Python? What are the different types of comments?\n\n# In Python we can comment a code by using three ways:\n# 1) Single Line Comment: For single Line comment we use simply use \"#\". example:\n                          # a= 12\n\n# 2) Multi Line Comment: For Multi line comment we use Multiple # for Each Line. Example:\n# a= 5\n# a/=1\n# print(a) ",
      "metadata": {
        "trusted": true
      },
      "outputs": [],
      "execution_count": 3
    },
    {
      "id": "707b4a0a-ec13-4d0f-b5c7-ed42bca9f7e6",
      "cell_type": "code",
      "source": "# Q2. What are variables in Python? How do you declare and assign values to variables?\n\n# In Python variables refers to containers that are used to data values.They are essentially names or identifiers\n# that refer to data stored in the computer's memory.\n# Ways of declaring a variable:\na = 12\nb = \"mohit\"\nc,d = 2,3\n_na = 34\nprint(a,\":\",b,\":\",c,\":\",d,\":\",_na)",
      "metadata": {
        "trusted": true
      },
      "outputs": [
        {
          "name": "stdout",
          "text": "12 : mohit : 2 : 3 : 34\n",
          "output_type": "stream"
        }
      ],
      "execution_count": 6
    },
    {
      "id": "13955cec-e045-4268-9b69-f093fd4dd380",
      "cell_type": "code",
      "source": "# Q3. How do you convert one data type to another in Python?\n\n# In python we can convert one data type to anothet using two ways:\n# 1. Implicit Type Conversion: Here, python Python automatically converts a variable from one type to another during an operation if it is safe to do so.\n#                              Example:\n\na= 45\nb= 3.4\nc= a+b\nprint(type(c))   # here int automatically gets converted to float\n\n# 2. Explicit type conversion: Here, the user manually converts one data type to another data type.\n                               # Example:\na= 34\nb= \"mohit\"\nc= str(a) + b\nprint(c)\nprint(type(c))",
      "metadata": {
        "trusted": true
      },
      "outputs": [
        {
          "name": "stdout",
          "text": "<class 'float'>\n34mohit\n<class 'str'>\n",
          "output_type": "stream"
        }
      ],
      "execution_count": 9
    },
    {
      "id": "01a0459c-ddf9-4fcd-b9d5-05de9250d3db",
      "cell_type": "code",
      "source": "# Q4. How do you write and execute a Python script from the command line?\n\n# Steps are as follows:\n1. Open a text editor and create your Python script (eg: hello.py with content print(\"Hello World!\")) and save the file with a .py extension.\n2. Now Open the Command Prompt on Windows or Open Terminal on macOs/Linux.\n3. Use the cd command to go to the folder containing your script and run the script by typing python hello.py",
      "metadata": {
        "trusted": true
      },
      "outputs": [],
      "execution_count": null
    },
    {
      "id": "d0be56af-8309-46c8-9f0e-242d5c34ff83",
      "cell_type": "code",
      "source": "# Q5. Given a list my_list = [1, 2, 3, 4, 5], write the code to slice the list and obtain the sub-list [2, 3].\n\nmy_list = [1, 2, 3, 4, 5]\nsub_str = my_list[1:3]\nprint(sub_str)",
      "metadata": {
        "trusted": true
      },
      "outputs": [
        {
          "name": "stdout",
          "text": "[2, 3]\n",
          "output_type": "stream"
        }
      ],
      "execution_count": 13
    },
    {
      "id": "6b896b81-9524-4d0e-833b-4381cafdce65",
      "cell_type": "code",
      "source": "# Q6. What is a complex number in mathematics, and how is it represented in Python?\n\n# A complex number is a number comprising a real part and an imaginary part, represented in Python as a + bj, where a is \n# the real part and b is the imaginary part.",
      "metadata": {
        "trusted": true
      },
      "outputs": [],
      "execution_count": null
    },
    {
      "id": "5108ed88-c7bf-4498-aa1d-a82df51c0616",
      "cell_type": "code",
      "source": "# Q7. What is the correct way to declare a variable named age and assign the value 25 to it?\n\nage = 25",
      "metadata": {
        "trusted": true
      },
      "outputs": [],
      "execution_count": null
    },
    {
      "id": "0f2121ac-d59b-4fe9-856f-49bb4bf6e55a",
      "cell_type": "code",
      "source": "# Q8. Declare a variable named price and assign the value 9.99 to it. What data type does this variable belong to?\n\nprice = 9.99\nprint(type(price))",
      "metadata": {
        "trusted": true
      },
      "outputs": [
        {
          "name": "stdout",
          "text": "<class 'float'>\n",
          "output_type": "stream"
        }
      ],
      "execution_count": 14
    },
    {
      "id": "757b880e-46f2-493e-9807-c4990ff0e47e",
      "cell_type": "code",
      "source": "# Q9. Create a variable named name and assign your full name to it as a string. How would you print the value of this variable?\n\nname = \"Mohit Agarwal\"\nprint(name)",
      "metadata": {
        "trusted": true
      },
      "outputs": [
        {
          "name": "stdout",
          "text": "Mohit Agarwal\n",
          "output_type": "stream"
        }
      ],
      "execution_count": 15
    },
    {
      "id": "d587a793-beb8-4eca-a75f-e7f243b64a10",
      "cell_type": "code",
      "source": "# Q10. Given the string \"Hello, World!\", extract the substring \"World\".\n\na = \"Hello, World!\"\nsub_str = a[7:12]\nprint(sub_str)",
      "metadata": {
        "trusted": true
      },
      "outputs": [
        {
          "name": "stdout",
          "text": "World\n",
          "output_type": "stream"
        }
      ],
      "execution_count": 12
    },
    {
      "id": "e09950c9-9cb3-47c9-86da-2c6b0af3af5f",
      "cell_type": "code",
      "source": "# Q11. Create a variable named \"is_student\" and assign it a boolean value indicating whether you are currently a student or not.\n\nis_student = True   # if you are currently a student\nis_student = False  # if you are not currently a student",
      "metadata": {
        "trusted": true
      },
      "outputs": [],
      "execution_count": null
    }
  ]
}